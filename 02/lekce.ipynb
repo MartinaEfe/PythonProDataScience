{
 "cells": [
  {
   "attachments": {},
   "cell_type": "markdown",
   "metadata": {},
   "source": [
    "# Lekce 2\n",
    "\n",
    "Základní otázkou je, proč se statistikou vůbec zabýváme a co statistika nabízí navíc oproti datové analýze. Hlavní rozdíl mezi statistikou a datovou analýzou je, že u statistiky se zpravidla zabýváme vzorkem dat a na základě vzorku dat usuzujeme, jaké má vlastnosti nějaký větší celek.\n",
    "\n",
    "Uvažujme například informace z vyřešení pacientů, která se týkají cukrovky.\n",
    "\n",
    "Dnes budeme používat soubor [diabetes.csv](diabetes.csv). Zdoj dat: [National Institute of Diabetes and Digestive and Kidney Diseases/kaggle.com](https://www.kaggle.com/datasets/mathchi/diabetes-data-set/)\n",
    "\n",
    "## Základní statistické ukazatele\n",
    "\n",
    "Máme-li k dispozici nějaký soubor dat, často nás zajímají různé statistické ukazatele. Nejčastěji nás zajímají ukazatele **úrovně (polohy)** a ukazatele **variability**. Ty s přehledem zvládne například modul `statistics`, který je součástí základních modulů Pythonu. My pro zpracování dat využijeme modul `pandas`.\n",
    "\n",
    "Budeme využívat data o vyšetření pacientek, která jsou v souboru `diabetes.csv`.\n",
    "\n",
    "* Pregnancies: Počet těhotenství\n",
    "* Glucose: Koncentrace glukózy v plazmě 2 hodiny po perorálním glukózovém tolerančním testu\n",
    "* BloodPressure: Diastolický krevní tlak (mm Hg)\n",
    "* SkinThickness: Tloušťka kožního záhybu na tricepsu (mm)\n",
    "* Insulin: 2-hodinový sérový inzulín (mu U/ml)\n",
    "* BMI: Index tělesné hmotnosti (hmotnost v kg/(výška v m))\n",
    "* DiabetesPedigreeFunction: Diabetická rodokmenová funkce\n",
    "* Age: Věk (roky)"
   ]
  },
  {
   "cell_type": "code",
   "execution_count": 7,
   "metadata": {},
   "outputs": [
    {
     "data": {
      "text/html": [
       "<div>\n",
       "<style scoped>\n",
       "    .dataframe tbody tr th:only-of-type {\n",
       "        vertical-align: middle;\n",
       "    }\n",
       "\n",
       "    .dataframe tbody tr th {\n",
       "        vertical-align: top;\n",
       "    }\n",
       "\n",
       "    .dataframe thead th {\n",
       "        text-align: right;\n",
       "    }\n",
       "</style>\n",
       "<table border=\"1\" class=\"dataframe\">\n",
       "  <thead>\n",
       "    <tr style=\"text-align: right;\">\n",
       "      <th></th>\n",
       "      <th>Pregnancies</th>\n",
       "      <th>Glucose</th>\n",
       "      <th>BloodPressure</th>\n",
       "      <th>SkinThickness</th>\n",
       "      <th>Insulin</th>\n",
       "      <th>BMI</th>\n",
       "      <th>DiabetesPedigreeFunction</th>\n",
       "      <th>Age</th>\n",
       "      <th>Outcome</th>\n",
       "    </tr>\n",
       "  </thead>\n",
       "  <tbody>\n",
       "    <tr>\n",
       "      <th>0</th>\n",
       "      <td>6</td>\n",
       "      <td>148</td>\n",
       "      <td>72</td>\n",
       "      <td>35</td>\n",
       "      <td>0</td>\n",
       "      <td>33.6</td>\n",
       "      <td>0.627</td>\n",
       "      <td>50</td>\n",
       "      <td>1</td>\n",
       "    </tr>\n",
       "    <tr>\n",
       "      <th>1</th>\n",
       "      <td>1</td>\n",
       "      <td>85</td>\n",
       "      <td>66</td>\n",
       "      <td>29</td>\n",
       "      <td>0</td>\n",
       "      <td>26.6</td>\n",
       "      <td>0.351</td>\n",
       "      <td>31</td>\n",
       "      <td>0</td>\n",
       "    </tr>\n",
       "    <tr>\n",
       "      <th>2</th>\n",
       "      <td>8</td>\n",
       "      <td>183</td>\n",
       "      <td>64</td>\n",
       "      <td>0</td>\n",
       "      <td>0</td>\n",
       "      <td>23.3</td>\n",
       "      <td>0.672</td>\n",
       "      <td>32</td>\n",
       "      <td>1</td>\n",
       "    </tr>\n",
       "    <tr>\n",
       "      <th>3</th>\n",
       "      <td>1</td>\n",
       "      <td>89</td>\n",
       "      <td>66</td>\n",
       "      <td>23</td>\n",
       "      <td>94</td>\n",
       "      <td>28.1</td>\n",
       "      <td>0.167</td>\n",
       "      <td>21</td>\n",
       "      <td>0</td>\n",
       "    </tr>\n",
       "    <tr>\n",
       "      <th>4</th>\n",
       "      <td>0</td>\n",
       "      <td>137</td>\n",
       "      <td>40</td>\n",
       "      <td>35</td>\n",
       "      <td>168</td>\n",
       "      <td>43.1</td>\n",
       "      <td>2.288</td>\n",
       "      <td>33</td>\n",
       "      <td>1</td>\n",
       "    </tr>\n",
       "  </tbody>\n",
       "</table>\n",
       "</div>"
      ],
      "text/plain": [
       "   Pregnancies  Glucose  BloodPressure  SkinThickness  Insulin   BMI  \\\n",
       "0            6      148             72             35        0  33.6   \n",
       "1            1       85             66             29        0  26.6   \n",
       "2            8      183             64              0        0  23.3   \n",
       "3            1       89             66             23       94  28.1   \n",
       "4            0      137             40             35      168  43.1   \n",
       "\n",
       "   DiabetesPedigreeFunction  Age  Outcome  \n",
       "0                     0.627   50        1  \n",
       "1                     0.351   31        0  \n",
       "2                     0.672   32        1  \n",
       "3                     0.167   21        0  \n",
       "4                     2.288   33        1  "
      ]
     },
     "execution_count": 7,
     "metadata": {},
     "output_type": "execute_result"
    }
   ],
   "source": [
    "import pandas as pd\n",
    "from scipy import stats\n",
    "import numpy as np\n",
    "import seaborn as sns\n",
    "\n",
    "data = pd.read_csv(\"diabetes.csv\")\n",
    "data.head()"
   ]
  },
  {
   "cell_type": "code",
   "execution_count": 8,
   "metadata": {},
   "outputs": [
    {
     "data": {
      "text/html": [
       "<div>\n",
       "<style scoped>\n",
       "    .dataframe tbody tr th:only-of-type {\n",
       "        vertical-align: middle;\n",
       "    }\n",
       "\n",
       "    .dataframe tbody tr th {\n",
       "        vertical-align: top;\n",
       "    }\n",
       "\n",
       "    .dataframe thead th {\n",
       "        text-align: right;\n",
       "    }\n",
       "</style>\n",
       "<table border=\"1\" class=\"dataframe\">\n",
       "  <thead>\n",
       "    <tr style=\"text-align: right;\">\n",
       "      <th></th>\n",
       "      <th>Pregnancies</th>\n",
       "      <th>Glucose</th>\n",
       "      <th>BloodPressure</th>\n",
       "      <th>SkinThickness</th>\n",
       "      <th>Insulin</th>\n",
       "      <th>BMI</th>\n",
       "      <th>DiabetesPedigreeFunction</th>\n",
       "      <th>Age</th>\n",
       "      <th>Outcome</th>\n",
       "    </tr>\n",
       "  </thead>\n",
       "  <tbody>\n",
       "    <tr>\n",
       "      <th>0</th>\n",
       "      <td>6</td>\n",
       "      <td>148</td>\n",
       "      <td>72</td>\n",
       "      <td>35</td>\n",
       "      <td>0</td>\n",
       "      <td>33.6</td>\n",
       "      <td>0.627</td>\n",
       "      <td>50</td>\n",
       "      <td>yes</td>\n",
       "    </tr>\n",
       "    <tr>\n",
       "      <th>1</th>\n",
       "      <td>1</td>\n",
       "      <td>85</td>\n",
       "      <td>66</td>\n",
       "      <td>29</td>\n",
       "      <td>0</td>\n",
       "      <td>26.6</td>\n",
       "      <td>0.351</td>\n",
       "      <td>31</td>\n",
       "      <td>no</td>\n",
       "    </tr>\n",
       "    <tr>\n",
       "      <th>2</th>\n",
       "      <td>8</td>\n",
       "      <td>183</td>\n",
       "      <td>64</td>\n",
       "      <td>0</td>\n",
       "      <td>0</td>\n",
       "      <td>23.3</td>\n",
       "      <td>0.672</td>\n",
       "      <td>32</td>\n",
       "      <td>yes</td>\n",
       "    </tr>\n",
       "    <tr>\n",
       "      <th>3</th>\n",
       "      <td>1</td>\n",
       "      <td>89</td>\n",
       "      <td>66</td>\n",
       "      <td>23</td>\n",
       "      <td>94</td>\n",
       "      <td>28.1</td>\n",
       "      <td>0.167</td>\n",
       "      <td>21</td>\n",
       "      <td>no</td>\n",
       "    </tr>\n",
       "    <tr>\n",
       "      <th>4</th>\n",
       "      <td>0</td>\n",
       "      <td>137</td>\n",
       "      <td>40</td>\n",
       "      <td>35</td>\n",
       "      <td>168</td>\n",
       "      <td>43.1</td>\n",
       "      <td>2.288</td>\n",
       "      <td>33</td>\n",
       "      <td>yes</td>\n",
       "    </tr>\n",
       "  </tbody>\n",
       "</table>\n",
       "</div>"
      ],
      "text/plain": [
       "   Pregnancies  Glucose  BloodPressure  SkinThickness  Insulin   BMI  \\\n",
       "0            6      148             72             35        0  33.6   \n",
       "1            1       85             66             29        0  26.6   \n",
       "2            8      183             64              0        0  23.3   \n",
       "3            1       89             66             23       94  28.1   \n",
       "4            0      137             40             35      168  43.1   \n",
       "\n",
       "   DiabetesPedigreeFunction  Age Outcome  \n",
       "0                     0.627   50     yes  \n",
       "1                     0.351   31      no  \n",
       "2                     0.672   32     yes  \n",
       "3                     0.167   21      no  \n",
       "4                     2.288   33     yes  "
      ]
     },
     "execution_count": 8,
     "metadata": {},
     "output_type": "execute_result"
    }
   ],
   "source": [
    "labels = {0: \"no\", 1: \"yes\"}\n",
    "data[\"Outcome\"] = data[\"Outcome\"].map(labels)\n",
    "data.head()"
   ]
  },
  {
   "cell_type": "markdown",
   "metadata": {},
   "source": [
    "Data často musíme vyčistit od nesmyslných hodnot. Z nějakého důvodu (pravděpodobně chybě zápisu) jsou v datech řádky, kde je krevní tlak (sloupec `BloodPressure`) 0, což v realitě nedává smysl. Těchto dat se můžeme zbavit s využitím dotazu."
   ]
  },
  {
   "cell_type": "code",
   "execution_count": 9,
   "metadata": {},
   "outputs": [],
   "source": [
    "data = data[data[\"BloodPressure\"] > 0]"
   ]
  },
  {
   "attachments": {},
   "cell_type": "markdown",
   "metadata": {},
   "source": [
    "### Průměr a medián\n",
    "\n",
    "Nejznámější ukazatele polohy jsou **aritmetický průměr** (*arithmetic mean*) a **medián** (*median*). Aritmetický průměr je součet hodnot vydělený jejich počtem, medián získáme jako prostřední hodnotu u dat seřazených podle velikosti. Platí, že medián je méně citlivý na tzv. **odlehlá pozorování (outliers)**.\n",
    "\n",
    "Průměr zjistíme pomocí metody `mean()` a medián pomocí metody `median()`, metody použijeme pro sloupeček `BloodPressure`, tj. pro krevní tlak."
   ]
  },
  {
   "cell_type": "code",
   "execution_count": 10,
   "metadata": {},
   "outputs": [
    {
     "name": "stdout",
     "output_type": "stream",
     "text": [
      "72.40518417462484\n",
      "72.0\n"
     ]
    }
   ],
   "source": [
    "print(data[\"BloodPressure\"].mean())\n",
    "print(data[\"BloodPressure\"].median())"
   ]
  },
  {
   "cell_type": "markdown",
   "metadata": {},
   "source": [
    "## Statistické hypotézy\n",
    "\n",
    "Hypotézou obecně myslíme nějaké tvrzení. Testování hypotéz (*hypothesis testing*) se zabývá ověřením, zda je nějaká hypotéza platná. Při testování hypotéz předpokládáme, že máme k dispozici nějaký vzorek dat, nikoli kompletní data. To vnáší prvek určité nejistoty.\n",
    "\n",
    "Uvažujme, že naším záměrem je zjistit, jestli se liší tlak krve u žen s cukrovkou a u žen bez ní.\n",
    "\n",
    "Podívejme se nejprve, kolik dat máme v každé skupině."
   ]
  },
  {
   "cell_type": "code",
   "execution_count": 11,
   "metadata": {},
   "outputs": [
    {
     "data": {
      "text/plain": [
       "Outcome\n",
       "no     481\n",
       "yes    252\n",
       "Name: count, dtype: int64"
      ]
     },
     "execution_count": 11,
     "metadata": {},
     "output_type": "execute_result"
    }
   ],
   "source": [
    "data[\"Outcome\"].value_counts()"
   ]
  },
  {
   "cell_type": "markdown",
   "metadata": {},
   "source": [
    "Podívejme se nyní na průměrné tlaky krve v obou skupinách. Nejprve si rozdělíme data do samostatných tabulek (bylo by možné využít i agregaci, ale data stejně musíme rozdělit, tak to udělejme nyní)."
   ]
  },
  {
   "cell_type": "code",
   "execution_count": 12,
   "metadata": {},
   "outputs": [],
   "source": [
    "data_yes = data[data[\"Outcome\"] == \"yes\"]\n",
    "data_no = data[data[\"Outcome\"] == \"no\"]"
   ]
  },
  {
   "cell_type": "markdown",
   "metadata": {},
   "source": [
    "Podívejme se nejprve na tlak žen, které cukrovkou trpí."
   ]
  },
  {
   "cell_type": "code",
   "execution_count": 13,
   "metadata": {},
   "outputs": [
    {
     "data": {
      "text/plain": [
       "75.32142857142857"
      ]
     },
     "execution_count": 13,
     "metadata": {},
     "output_type": "execute_result"
    }
   ],
   "source": [
    "data_yes[\"BloodPressure\"].mean()"
   ]
  },
  {
   "cell_type": "markdown",
   "metadata": {},
   "source": [
    "Nyní se podívejme na tlak žen, které cukrovku nemají."
   ]
  },
  {
   "cell_type": "markdown",
   "metadata": {},
   "source": [
    "Data si můžeme porovnat i graficky. Šedá linka, kterou zobrazuje `barplot()`, je tzv. interval spolehlivosti, tj. interval, kde se dle odhadu nachází 95 % hodnot. Číslo 95 % je výchozí hodnota, kterou zobrazuje `seaborn`, v případě potřeby si můžeme nechat zobrazit i interval pro jiné procento."
   ]
  },
  {
   "cell_type": "code",
   "execution_count": 14,
   "metadata": {},
   "outputs": [
    {
     "data": {
      "text/plain": [
       "<Axes: xlabel='Outcome', ylabel='BloodPressure'>"
      ]
     },
     "execution_count": 14,
     "metadata": {},
     "output_type": "execute_result"
    },
    {
     "data": {
      "image/png": "[encoded data removed]",
      "text/plain": [
       "<Figure size 640x480 with 1 Axes>"
      ]
     },
     "metadata": {},
     "output_type": "display_data"
    }
   ],
   "source": [
    "sns.barplot(data, x=\"Outcome\", y=\"BloodPressure\")"
   ]
  },
  {
   "cell_type": "markdown",
   "metadata": {},
   "source": [
    "Vidíme, že průměrná hodnota se liší. Musíme ale myslet na to, že máme jen omezený vzorek (768 žen), takže musíme být opatrní, pokud bychom chtěli formulovat nějaký obecný závěr na všechny ženy v populaci. Můžeme se výsledky podívat ze dvou směrů:\n",
    "\n",
    "- *\"Čísla vyšla různě, tím pádem musí být průměr jiný.\"*\n",
    "- *\"Ten rozdíl je malý a máme jen vzorek 768, takže to nejspíše bude náhoda.\"*\n",
    "\n",
    "Ke které z těchto stran bychom se měli přiklonit? V řadě případů není možné se intuitivně přiklonit na jednu stranu. Právě tento problém za nás řeší testování hypotéz.\n",
    "\n",
    "Testování hypotéz má pevný postup, který se skládá z následujících kroků:\n",
    "\n",
    "* Formulace statistických hypotéz.\n",
    "* Výběr vhodného testu.\n",
    "* Výpočet hodnoty testového kritéria.\n",
    "* Rozhodnutí o platnosti nulové hypotézy.\n",
    "\n",
    "### Formulace statistických hypotéz\n",
    "\n",
    "Při testování hypotéz vždy nejprve definujeme dvě hypotézy - **nulovou** (*null hypothesis*) a **alternativní** (*alternative hypohesis*). Tyto dvě hypotézy musí být vždy **ve sporu**, tj. nemůže nastat situace, že by byly obě pravdivé. Nulová hypotéza v sobě má často znaménko *rovná se*, alternativní pak mívá znaménko *nerovná se*, *větší než* nebo *menší než*. Dále můžeme v nulové hypotéze tvrdit, že mezi dvěma sloupci v tabulce není závislost, a alternativní hypotéza bude říkat, že závislost existuje (to si ukážeme v dalších lekcích).\n",
    "\n",
    "Uvažujme následující dvojici hypotéz:\n",
    "\n",
    "- Nulová hypotéza: Ženy trpící cukrovkou mají v průměru (*ve střední hodnota*) stejný krevní tlak jako ženy, které cukrovkou netrpí\n",
    "- Alternativní hypotéza: Ženy trpící cukrovkou mají v průměru (*ve střední hodnota*) jiný krevní tlak jako ženy, které cukrovkou netrpí\n",
    "\n",
    "Při formulování statistických hypotéz (a ve statistice obecně) obvykle rozlišujeme mezi dvěma pojmy:\n",
    "\n",
    "- Průměr = to, co jsme **spočítali z našich dat**.\n",
    "- Střední hodnota = hodnota, která se vztahuje k celé populaci (například ke všem ženám na světě). **Střední hodnotu neznáme, ale odhadujeme ji pomocí průměru.**\n",
    "\n",
    "Je zřejmé, že obě hypotézy nemohou být pravidivé. Při testování hypotéz můžeme dojít k následujícím závěrům:\n",
    "\n",
    "* zamítáme (*reject*) H0 (a tedy tvrdíme, že platí H1),\n",
    "* nezamítáme (*do not reject*) H0 (a tedy jsme neprokázali, že platí H1).\n",
    "\n",
    "Poněkud nepříjemnou zprávou pro vás může být informace, že výsledek našeho testu může být chybný, a to i v případě, že jsme postuovali správně. Může se totiž stát, že prostě máme smůlu na náš vzorek, který nereprezentuje data o celé populaci úplně správně.\n",
    "\n",
    "Při testování se můžeme dopustit 2 chyb, které jsou popsány v tabulce níže.\n",
    "\n",
    "|   | Krevní tlak se neliší | Krevní tlak se liší |\n",
    "|---|---|---|\n",
    "| **Neprokázali jsme rozdíl** | Správný výsledek | Chyba II. druhu (*Type II Error*) |\n",
    "| **Tvrdíme, že jsme našli rozdíl**  | Chyba I. druhu (*Type I Error*) | Správný výsledek |\n",
    "\n",
    "Rozepišme si nyní tyto chyby obecně\n",
    "\n",
    "|   | Nulová hypotéze platí | Nulová hypotéza neplatí |\n",
    "|---|---|---|\n",
    "| **Nezamítáme nulovou hypotézu** | Správný výsledek | Chyba II. druhu |\n",
    "| **Zamítáme nulovou hypotézu**  | Chyba I. druhu | Správný výsledek |\n",
    "\n",
    "Při testování hypotéz si zpravidla vybíráme pravděpodobnost, s jakou se chceme dopustit chyby I. druhu. Pravděpodobnost chyby I. druhu označujeme jako **hladinu významnosti** (*significance level*).\n",
    "\n",
    "## Výběr vhodného testu\n",
    "\n",
    "Dále zvolíme vhodný test pro ověření naší hypotézy. Statistických testů existuje obrovské množství a výběr toho správného závisí obecně na několika faktech:\n",
    "\n",
    "- **Počet souborů (skupin) dat**, se kterými chceme v testu pracovat. V tomto konkrétním případě chceme pracovat se dvěma soubory (*sample*), můžeme mít ale pouze jeden či naopak 3 a více. Soubory myslíme \"skupiny\", které v testu porovnáváme. V našem testu máme dvě skupiny - ženy trpící cukrovkou a ženy, které cukrovku nemají. Nejde o to, kolik dat máme pro každou ze skupin. Mohli bychom mít například milion záznamů o ženách s cukrovkou a milion záznamů o ženách bez ní, ale pořád by šlo o dva soubory.\n",
    "- **Statistický ukazatel** nebo skutečnost, kterou chceme ověřit. V našem případě půjde o průměr, ale je možné testovat i jiné skutečnosti.\n",
    "- **Předpoklady testu.** Předpoklad je nějaká podmínka, která musí být splněna, aby test dával kvalitní výsledky. O tom si více povíme příště.\n",
    "\n",
    "Vraťme se k našemu testu. Chceme porovnat průměry ve dvou souborech. Pro tento případ existuje několik testů, my zvolíme test označovaný jako **t-test**.\n",
    "\n",
    "Samotný výpočet můžeme provést s využitím modulu `scipy`, konkrétně funkce `stats.ttest_ind`."
   ]
  },
  {
   "cell_type": "code",
   "execution_count": 15,
   "metadata": {},
   "outputs": [
    {
     "data": {
      "text/plain": [
       "TtestResult(statistic=4.680835112808535, pvalue=3.4051509015522525e-06, df=731.0)"
      ]
     },
     "execution_count": 15,
     "metadata": {},
     "output_type": "execute_result"
    }
   ],
   "source": [
    "stats.ttest_ind(data_yes[\"BloodPressure\"], data_no[\"BloodPressure\"])"
   ]
  },
  {
   "cell_type": "markdown",
   "metadata": {},
   "source": [
    "Co tato záhadná čísla znamenají?\n",
    "\n",
    "- `statistics` je hodnota statistiky testu. Statistika testu je v podstatě vzoreček. V tomto případě číslo říká, jak moc pořadí pozorování v jednom souboru odpovídá pořadí pozorování ve druhém souboru.\n",
    "- `pvalue` (p-hodnota) se váže k hladině významnosti. p-hodnotu využijeme pro rozhodnutí o platnosti alternativní hypotézy.\n",
    "\n",
    "Platí následující **obecná** pravidla.\n",
    "\n",
    "- Pokud je **p-hodnota menší než hladina významnosti, zamítáme nulovou hypotézu** (tj. platí alternativní hypotéza).\n",
    "- Pokud je **p-hodnota větší než hladina významnosti, nezamítáme nulovou hypotézu.**\n",
    "\n",
    "Pokud si zvolíme hladinu významnosti jako 5 %, což je nejčastější volba, můžeme zapsat pravidlo konkrétněji.\n",
    "\n",
    "- Pokud je **p-hodnota < 0.05, zamítáme nulovou hypotézu** (tj. platí alternativní hypotéza).\n",
    "- Pokud je **p-hodnota > 0.05, nezamítáme nulovou hypotézu.**\n",
    "\n",
    "V našem případě je p-hodnota `3.4051509015522525e-06`. Číslo je menší než 0.05. Důležitý je především konec `e-06`, což znamená, že první nenulové číslo za desetinnou čárkou je až na šestém místě, tj. v běžném zápisu jde o číslo. `0.0000034051509015522525`. Zjistili jsme tedy, že náš změřený rozdíl je \"statisticky významný\". To znamená, že pravděpodobnost, že by takový rozdíl (na výběru dané velikosti) mohl být náhoda, je nízká.\n",
    "\n",
    "Cukrovka může souviset i s hmotností. Zkusme nyní zopakovat postup pro porovnání průměrné hmotnosti pacientek trpících cukrovkou a pacientech, které cukrovkou netrpí. Začneme formulací hypotéz.\n",
    "\n",
    "- Nulová hypotéza: Ženy trpící cukrovkou mají v průměru stejný index BMI jako ženy, které cukrovkou netrpí\n",
    "- Alternativní hypotéza: Ženy trpící cukrovkou mají v průměru jiný index BMI než ženy, které cukrovkou netrpí\n",
    "\n",
    "Protože opět porovnáváme průměr dvou různých souborů, použijeme t-test. Opět využijeme funkci `ttest_ind()` z modulu `scipy`."
   ]
  },
  {
   "cell_type": "code",
   "execution_count": 16,
   "metadata": {},
   "outputs": [
    {
     "data": {
      "text/plain": [
       "TtestResult(statistic=8.212955296921548, pvalue=9.772190748989732e-16, df=731.0)"
      ]
     },
     "execution_count": 16,
     "metadata": {},
     "output_type": "execute_result"
    }
   ],
   "source": [
    "stats.ttest_ind(data_yes[\"BMI\"], data_no[\"BMI\"])"
   ]
  },
  {
   "cell_type": "markdown",
   "metadata": {},
   "source": [
    "Nyní vychází p-hodnota `1.2298074873116022e-16`. Důležité je opět nenápadné číslo `e-16`. Co znamená? Číslo je zobrazené v takzvaném vědeckém formátu, což znamená, že vidíme první nenulové číslo za desetinnou čárkou a `e-16` nám říká, na kolikáté pozici za desetinnou čárkou tato číslice je. Uložme si nejprve výsledky do proměnných. Protože máme dva výsledky, připravíme si dvě proměnné - proměnnou `statistics` pro statistiku testu a `pvalue` pro p-hodnotu."
   ]
  },
  {
   "cell_type": "code",
   "execution_count": 17,
   "metadata": {},
   "outputs": [],
   "source": [
    "statistics, pvalue = stats.ttest_ind(data_yes[\"BMI\"], data_no[\"BMI\"])"
   ]
  },
  {
   "cell_type": "markdown",
   "metadata": {},
   "source": [
    "Nyní můžeme použít funkci `format_float_positional` z modulu `numpy`, abychom zobrazil výsledek jako desetinné číslo. Vidíme, že za desetinnou čárkou je obrovské množství nul a až poté se objevuje číslo 1. Určitě je tedy p-hodnota menší než 0.05."
   ]
  },
  {
   "cell_type": "code",
   "execution_count": 18,
   "metadata": {},
   "outputs": [
    {
     "data": {
      "text/plain": [
       "'0.0000000000000009772190748989732'"
      ]
     },
     "execution_count": 18,
     "metadata": {},
     "output_type": "execute_result"
    }
   ],
   "source": [
    "np.format_float_positional(pvalue)"
   ]
  },
  {
   "cell_type": "markdown",
   "metadata": {},
   "source": [
    "Můžeme tedy formulovat závěr, že průměrný hodnota indexu BMI se liší pro ženy trpící cukrovkou a pro ženy, které cukrovkou netrpí.\n",
    "\n",
    "Pozor ovšem na to, abychom závěry nezkresili. Pouze na základě našeho výzkumu nemůžeme tvrdít, že vyšší hmotnost vede k cukrovce. Je totiž teoreticky možné, že cukrovka způsobuje pomalejší odbourávání tuků."
   ]
  },
  {
   "cell_type": "markdown",
   "metadata": {},
   "source": [
    "Formulace hypotéz a výběr testu je na celém testování hypotéz nejtěžší. Pomocí nám může například nástroj ChatGPT. Zkusme mu zadat dotaz: *\"Mám data o pacientkách, z nichž část trpí cukrovkou a část ne. V datech je i informace o krevním tlaku každé z pacientek. Chci statisticky ověřit, jestli se krevní tlak pacientek s cukrovkou liší od těch, které cukrovku nemají. Formuluj statistické hypotézy.\"*\n",
    "\n",
    "Níže vidíme odpověď.\n",
    "\n",
    "![chatgpt.png](chatgpt.png)\n",
    "\n",
    "Všimněte si symbolu $\\mu$. Jde o řecké písmeno \"mí\", které se ve statistice používá pro střední hodnotu."
   ]
  },
  {
   "cell_type": "markdown",
   "metadata": {},
   "source": [
    "Přesné hodnoty kvantilů můžeme též získat s využitím funkce `quantile` z modulu `numpy`."
   ]
  },
  {
   "cell_type": "markdown",
   "metadata": {},
   "source": [
    "### Čtení na doma Inverzní kvantilová funkce\n",
    "\n",
    "Zajímavá může být i **opačná otázka** - kolik procent hodnot je menších než nějaká vybraná hodnota? Protože řešíme opačný problém než u kvantilové funkce, někdy se pro tuto funkci používá pojem inverzní kvantilová funkce, častější označení je pak **empirická distribuční funkce** (*empirical distribution function*).\n",
    "\n",
    "Uvažujme například, že by některou pacientku zajímalo, kolik procent pacientek má méně glukózy než ona. Uvažujme například, hodnota pacientky je 125. Odpověď na to může poskytnout právě empirická distribuční funkce. V modulu `scipy` je tato funkce pojmenovaná jako `percentileofscore` a jako parametr jí dáme sérii `Glucose` a hodnotu glukózy naší pacientky (125).\n",
    "\n",
    "Pojem *empirická* se vztahuje k tomu, že funkci sestavujeme na základě konkrétních dat. Kromě toho je možné získat distribuční funkci jako matematický vzorec. Funkce má stejnou interpretaci, tj. říká nám, kolik procent dat z nějakého datového souboru je menší než nějaká konkrétní hodnota."
   ]
  },
  {
   "cell_type": "code",
   "execution_count": 19,
   "metadata": {},
   "outputs": [
    {
     "data": {
      "text/plain": [
       "60.368349249658934"
      ]
     },
     "execution_count": 19,
     "metadata": {},
     "output_type": "execute_result"
    }
   ],
   "source": [
    "stats.percentileofscore(data[\"Glucose\"], 125)"
   ]
  },
  {
   "cell_type": "markdown",
   "metadata": {},
   "source": [
    "Výsledkem je hodnota 60,48, tj. asi 60 % pacientek z našeho vzorku má nižší hodnotu glokózy.\n",
    "\n",
    "Funkci si můžeme zobrazit i graficky. Na ose *x* grafu vidíme hodnotu glukózy a na o *y* procento hodnot, které jsou menší. Funkce je rostoucí, protože jak se posunujeme k vyšším hodnotám glukózy, roste nám procento hodnot, které jsou menší."
   ]
  },
  {
   "cell_type": "code",
   "execution_count": 20,
   "metadata": {},
   "outputs": [
    {
     "data": {
      "text/plain": [
       "<Axes: xlabel='Glucose', ylabel='Proportion'>"
      ]
     },
     "execution_count": 20,
     "metadata": {},
     "output_type": "execute_result"
    },
    {
     "data": {
      "image/png": "[encoded data removed]",
      "text/plain": [
       "<Figure size 640x480 with 1 Axes>"
      ]
     },
     "metadata": {},
     "output_type": "display_data"
    }
   ],
   "source": [
    "sns.ecdfplot(data=data, x=\"Glucose\")"
   ]
  },
  {
   "cell_type": "markdown",
   "metadata": {},
   "source": [
    "Pomocí parametru `hue` si můžeme zobrazit dvě empirické distribuční funkce v závislosti na tom, jestli některá z pacientek trpí cukrovkou. Čím jsou si data podobnější, tím jsou empirické distribuční funkce více u sebe."
   ]
  },
  {
   "cell_type": "code",
   "execution_count": 21,
   "metadata": {},
   "outputs": [
    {
     "data": {
      "text/plain": [
       "<Axes: xlabel='Glucose', ylabel='Proportion'>"
      ]
     },
     "execution_count": 21,
     "metadata": {},
     "output_type": "execute_result"
    },
    {
     "data": {
      "image/png": "[encoded data removed]",
      "text/plain": [
       "<Figure size 640x480 with 1 Axes>"
      ]
     },
     "metadata": {},
     "output_type": "display_data"
    }
   ],
   "source": [
    "sns.ecdfplot(data=data, x=\"Glucose\", hue=\"Outcome\")"
   ]
  },
  {
   "cell_type": "markdown",
   "metadata": {},
   "source": [
    "Níže například vidíme empirické distribuční funkce pro krevní tlak. Ty jsou si mnohem blíže než ty pro hladinu glukózy."
   ]
  },
  {
   "cell_type": "code",
   "execution_count": 22,
   "metadata": {},
   "outputs": [
    {
     "data": {
      "text/plain": [
       "<Axes: xlabel='BloodPressure', ylabel='Proportion'>"
      ]
     },
     "execution_count": 22,
     "metadata": {},
     "output_type": "execute_result"
    },
    {
     "data": {
      "image/png": "[encoded data removed]",
      "text/plain": [
       "<Figure size 640x480 with 1 Axes>"
      ]
     },
     "metadata": {},
     "output_type": "display_data"
    }
   ],
   "source": [
    "sns.ecdfplot(data=data, x=\"BloodPressure\", hue=\"Outcome\")"
   ]
  },
  {
   "cell_type": "markdown",
   "metadata": {},
   "source": [
    "### Čtení na doma: Jak je spočítaná p-hodnota našeho testu\n",
    "\n",
    "Vraťme se k našemu příkladu a podívejme se podrobně na to, jak je spočítaná p-hodnota testu. Nejprve se ale musíme vrátit ke statistice testu. Statistika je spočítaná dle vzorce:\n",
    "\n",
    "$\\frac{\\bar{X_1} - \\bar{X_2}}{s_p \\cdot \\sqrt{\\frac{1}{n_1} + \\frac{1}{n_2}}}$\n",
    "\n",
    "kde $\\bar{X_1}$ a $\\bar{X_2}$ jsou průměry obou souborů, $n_1$ a $n_2$ jsou rozsahy výběrů (tj. počet hodnot v obou skupinách) a $s_p$ je tzv. směrodatná odchylka. Směrodatná odchylka je jedním z ukazatelů variability (různorodosti) dat. Čím více jsou data různorodá, tím více různé průměry můžeme spočítat, i když jsou střední hodnoty stejné.\n",
    "\n",
    "Zkusme tedy do našeho vzorečku dosadit. Jako soubor 1 uvažujeme ženy, které cukrovkou trpí, a jako soubor 2 ty, které cukrovkou netrpí."
   ]
  },
  {
   "cell_type": "code",
   "execution_count": 23,
   "metadata": {},
   "outputs": [
    {
     "data": {
      "text/plain": [
       "2.9525166134953538"
      ]
     },
     "execution_count": 23,
     "metadata": {},
     "output_type": "execute_result"
    }
   ],
   "source": [
    "data = pd.read_csv(\"diabetes.csv\")\n",
    "\n",
    "mean_x1 = data_yes[\"BloodPressure\"].mean()\n",
    "mean_x2 = data_no[\"BloodPressure\"].mean()\n",
    "std = data[\"BloodPressure\"].std()\n",
    "n1 = data_yes[\"BloodPressure\"].shape[0]\n",
    "n2 = data_no[\"BloodPressure\"].shape[0]\n",
    "\n",
    "t = (mean_x1 - mean_x2) / (std * np.sqrt(1/n1 + 1/n2))\n",
    "t"
   ]
  },
  {
   "cell_type": "markdown",
   "metadata": {},
   "source": [
    "Získali jsme stejnou hodnotu, jakou nám spočítal modul `scipy`.\n",
    "\n",
    "Zkusme se nad vzorečkem nejprve zamyslet. Uvažujme nejprve, že bychom z nějakých dat zjistili, že ženy, které cukrovku nemají, mají větší krevní tlak než ty, které cukrovkou trpí. V takovém případě je $x_1$ větší než $x_2$ a celá hodnota statistiky vyjde jako záporné číslo. Dále platí, že větší je rozdíl mezi oběma průměry, tím dále od 0 výsledné číslo je. Pokud by byly průměry naopak blízko, vyjde statistika blízko 0. A naopak, pokud by nám vyšlo, že ženy s cukrovkou mají vyšší krevní tlak než ty bez cukrovky, vyjde statistika kladná (což je ostatní i náš případ). A čím vyšší bude průměr u žen s cukrovkou oproti těm bez ní, tím větší číslo statistika bude.\n",
    "\n",
    "Obecně tedy platí, že čím větší je rozdíl mezi zjištěnými průměry, tím dále od 0 statistika vyjde. Současně platí, že pokud jsou střední hodnoty obou souborů stejné (tj. v případě, že platí H0), je více pravděpodobné, že i průměry náhodných výběrů budou podobné, a tím pádem je pravděpodobnější hodnota statistiky blízko 0. Naopak hodnoty dále od 0 jsou méně pravděpodobné.\n",
    "\n",
    "Uvažujme tedy nějakou hodnotu statistiky *t*. Pokud je hodnota záporná, pak všechny hodnoty menší než *t* jsou méně pravděpodobné (za předpokladu, že platí H0). p-hodnota v sobě zahrnuje zjištěný rozdíl průměrů a všechny, které jsou méně pravděpodobné, tj. dále od 0.\n",
    "\n",
    "Platí tedy následující dvě pravidla:\n",
    "\n",
    "- Pokud je rozdíl průměrů záporný, jsou méně pravděpodobné hodnoty nalevo.\n",
    "- Pokud je rozdíl průměrů kladný, jsou méně pravděpodobné hodnoty napravo.\n",
    "\n",
    "K určení hodnoty pravděpodobnosti použijeme distribuční funkci. Pro naši statistiku můžeme použít tzv. normální rozdělení, které najdeme v modulu `stats` pod označením `norm`. Distribuční funkce se skrývá pod označením `cdf` (cumulative distribution number)."
   ]
  },
  {
   "cell_type": "code",
   "execution_count": 24,
   "metadata": {},
   "outputs": [
    {
     "data": {
      "text/plain": [
       "0.9984240244563495"
      ]
     },
     "execution_count": 24,
     "metadata": {},
     "output_type": "execute_result"
    }
   ],
   "source": [
    "stats.norm.cdf(t)"
   ]
  },
  {
   "cell_type": "markdown",
   "metadata": {},
   "source": [
    "Pro naši statistiku je hodnota téměř 1. Musíme ale myslet na předchozí odrážku, která říká, že se díváme směrem doprava. Dopočítáme tedy \"zbytek\" od jedničky."
   ]
  },
  {
   "cell_type": "code",
   "execution_count": 25,
   "metadata": {},
   "outputs": [
    {
     "data": {
      "text/plain": [
       "0.0015759755436505207"
      ]
     },
     "execution_count": 25,
     "metadata": {},
     "output_type": "execute_result"
    }
   ],
   "source": [
    "1 - stats.norm.cdf(t)"
   ]
  },
  {
   "cell_type": "markdown",
   "metadata": {},
   "source": [
    "Nakonec p-hodnotu násobíme dvěma. Uvažujeme totiž stejně nepravděpodobné hodnoty i pro \"opačný případ\". Teoreticky tedy zahrneme jak pravděpodobnost statistiky 1.802 a všech vyšších, tak i pravděpodobnost statistiky - 1.802 a všech nižších."
   ]
  },
  {
   "cell_type": "code",
   "execution_count": 26,
   "metadata": {},
   "outputs": [
    {
     "data": {
      "text/plain": [
       "0.0031519510873010415"
      ]
     },
     "execution_count": 26,
     "metadata": {},
     "output_type": "execute_result"
    }
   ],
   "source": [
    "(1 - stats.norm.cdf(t)) * 2"
   ]
  },
  {
   "attachments": {},
   "cell_type": "markdown",
   "metadata": {},
   "source": [
    "## Cvičení\n",
    "\n",
    "## Důvěra v EU a euro\n",
    "\n",
    "Tentokrát budeme pracovat s daty z výzkumu veřejného mínění Eurobarometr. Ten je realizován v zemích Evropské unie a lidé jsou v něm pravidelně tázání na řadu otázek. My se podíváme na jednu z nich. Rozdělíme státy EU na dvě skupiny - státy v eurozóně a státy mimo ni. Jak je to s důvěrou v EU? Důvěřují EU více lidé, kteří žijí ve státech platící eurem? Využij znovu data o důvěře v EU ze souboru [duvera.csv](duvera.csv) a rozděl státy na ty, které jsou v eurozóně, a ty, které jsou mimo ni.\n",
    "\n",
    "Použij sloupce `EU Trustt` (důvěra v EU) a `Euro` (jestli má země euro).\n",
    "\n",
    "Aplikuj postup, který jsme si ukázali v lekci, tj. formuluj hypotézy, určitě p-hodnotu a rozhodni o výsledku testu.\n",
    "\n",
    "Zdroj dat: [https://europa.eu/eurobarometer/screen/home](https://europa.eu/eurobarometer/screen/home)"
   ]
  },
  {
   "cell_type": "code",
   "execution_count": 27,
   "metadata": {},
   "outputs": [
    {
     "data": {
      "text/html": [
       "<div>\n",
       "<style scoped>\n",
       "    .dataframe tbody tr th:only-of-type {\n",
       "        vertical-align: middle;\n",
       "    }\n",
       "\n",
       "    .dataframe tbody tr th {\n",
       "        vertical-align: top;\n",
       "    }\n",
       "\n",
       "    .dataframe thead th {\n",
       "        text-align: right;\n",
       "    }\n",
       "</style>\n",
       "<table border=\"1\" class=\"dataframe\">\n",
       "  <thead>\n",
       "    <tr style=\"text-align: right;\">\n",
       "      <th></th>\n",
       "      <th>Country</th>\n",
       "      <th>National Government Trust</th>\n",
       "      <th>EU Trust</th>\n",
       "      <th>Country Name</th>\n",
       "      <th>Euro</th>\n",
       "    </tr>\n",
       "  </thead>\n",
       "  <tbody>\n",
       "    <tr>\n",
       "      <th>0</th>\n",
       "      <td>BE</td>\n",
       "      <td>40</td>\n",
       "      <td>55</td>\n",
       "      <td>Belgium</td>\n",
       "      <td>1</td>\n",
       "    </tr>\n",
       "    <tr>\n",
       "      <th>1</th>\n",
       "      <td>BG</td>\n",
       "      <td>19</td>\n",
       "      <td>49</td>\n",
       "      <td>Bulgaria</td>\n",
       "      <td>0</td>\n",
       "    </tr>\n",
       "    <tr>\n",
       "      <th>2</th>\n",
       "      <td>CZ</td>\n",
       "      <td>30</td>\n",
       "      <td>43</td>\n",
       "      <td>Czechia</td>\n",
       "      <td>0</td>\n",
       "    </tr>\n",
       "    <tr>\n",
       "      <th>3</th>\n",
       "      <td>DK</td>\n",
       "      <td>52</td>\n",
       "      <td>65</td>\n",
       "      <td>Denmark</td>\n",
       "      <td>0</td>\n",
       "    </tr>\n",
       "    <tr>\n",
       "      <th>4</th>\n",
       "      <td>DE</td>\n",
       "      <td>49</td>\n",
       "      <td>49</td>\n",
       "      <td>Germany</td>\n",
       "      <td>1</td>\n",
       "    </tr>\n",
       "  </tbody>\n",
       "</table>\n",
       "</div>"
      ],
      "text/plain": [
       "  Country  National Government Trust  EU Trust Country Name  Euro\n",
       "0      BE                         40        55      Belgium     1\n",
       "1      BG                         19        49     Bulgaria     0\n",
       "2      CZ                         30        43      Czechia     0\n",
       "3      DK                         52        65      Denmark     0\n",
       "4      DE                         49        49      Germany     1"
      ]
     },
     "execution_count": 27,
     "metadata": {},
     "output_type": "execute_result"
    }
   ],
   "source": [
    "data = pd.read_csv(\"duvera.csv\")\n",
    "data.head()"
   ]
  },
  {
   "cell_type": "markdown",
   "metadata": {},
   "source": [
    "## Bonus: Inflace\n",
    "\n",
    "V souboru [inflace.csv](inflace.csv) najdeš procenta lidí, kteří považují inflaci a růst životních nákladů za jeden ze svých nejzávažnějších problémů. Data jsou za dvě období - léto 2022 (sloupec `97`) a zima 2022/2023 (sloupec `98`). Ověř, zda se procento lidí, kteří řadí inflaci mezi 2 své nejzávažnější problémy, změnilo.\n",
    "\n",
    "Jedná se o tzv. párová data. Máme totiž dva údaje pro každý stát. Jinak řečeno, ke každé hodnotě ze sloupečku `97` patří jedna konkrétní hodnota ze sloupečku `98` (vždy jde o hodnoty pro ten samý stát). Pro taková data je vhodnější použití [párového testu](https://docs.scipy.org/doc/scipy/reference/generated/scipy.stats.ttest_rel.html#scipy.stats.ttest_rel). Pro párový test formulujeme stejné hypotézy jako u nepárového. Rozdíl je v tom, že pro párové pozorování vypočtená p-hodnota přesnější.\n",
    "\n",
    "Aplikuj postup, který jsme si ukázali v lekci, tj. formuluj hypotézy, určitě p-hodnotu a rozhodni o výsledku testu."
   ]
  },
  {
   "cell_type": "code",
   "execution_count": 28,
   "metadata": {},
   "outputs": [
    {
     "data": {
      "text/html": [
       "<div>\n",
       "<style scoped>\n",
       "    .dataframe tbody tr th:only-of-type {\n",
       "        vertical-align: middle;\n",
       "    }\n",
       "\n",
       "    .dataframe tbody tr th {\n",
       "        vertical-align: top;\n",
       "    }\n",
       "\n",
       "    .dataframe thead th {\n",
       "        text-align: right;\n",
       "    }\n",
       "</style>\n",
       "<table border=\"1\" class=\"dataframe\">\n",
       "  <thead>\n",
       "    <tr style=\"text-align: right;\">\n",
       "      <th></th>\n",
       "      <th>Country</th>\n",
       "      <th>98</th>\n",
       "      <th>97</th>\n",
       "      <th>Country Name</th>\n",
       "      <th>Euro</th>\n",
       "    </tr>\n",
       "  </thead>\n",
       "  <tbody>\n",
       "    <tr>\n",
       "      <th>0</th>\n",
       "      <td>BE</td>\n",
       "      <td>31</td>\n",
       "      <td>34</td>\n",
       "      <td>Belgium</td>\n",
       "      <td>1</td>\n",
       "    </tr>\n",
       "    <tr>\n",
       "      <th>1</th>\n",
       "      <td>BG</td>\n",
       "      <td>22</td>\n",
       "      <td>31</td>\n",
       "      <td>Bulgaria</td>\n",
       "      <td>0</td>\n",
       "    </tr>\n",
       "    <tr>\n",
       "      <th>2</th>\n",
       "      <td>CZ</td>\n",
       "      <td>34</td>\n",
       "      <td>42</td>\n",
       "      <td>Czechia</td>\n",
       "      <td>0</td>\n",
       "    </tr>\n",
       "    <tr>\n",
       "      <th>3</th>\n",
       "      <td>DK</td>\n",
       "      <td>28</td>\n",
       "      <td>33</td>\n",
       "      <td>Denmark</td>\n",
       "      <td>0</td>\n",
       "    </tr>\n",
       "    <tr>\n",
       "      <th>4</th>\n",
       "      <td>DE</td>\n",
       "      <td>33</td>\n",
       "      <td>40</td>\n",
       "      <td>Germany</td>\n",
       "      <td>1</td>\n",
       "    </tr>\n",
       "  </tbody>\n",
       "</table>\n",
       "</div>"
      ],
      "text/plain": [
       "  Country  98  97 Country Name  Euro\n",
       "0      BE  31  34      Belgium     1\n",
       "1      BG  22  31     Bulgaria     0\n",
       "2      CZ  34  42      Czechia     0\n",
       "3      DK  28  33      Denmark     0\n",
       "4      DE  33  40      Germany     1"
      ]
     },
     "execution_count": 28,
     "metadata": {},
     "output_type": "execute_result"
    }
   ],
   "source": [
    "data = pd.read_csv(\"inflace.csv\")\n",
    "data.head()"
   ]
  }
 ],
 "metadata": {
  "kernelspec": {
   "display_name": "Python 3",
   "language": "python",
   "name": "python3"
  },
  "language_info": {
   "codemirror_mode": {
    "name": "ipython",
    "version": 3
   },
   "file_extension": ".py",
   "mimetype": "text/x-python",
   "name": "python",
   "nbconvert_exporter": "python",
   "pygments_lexer": "ipython3",
   "version": "3.12.1"
  },
  "orig_nbformat": 4
 },
 "nbformat": 4,
 "nbformat_minor": 2
}
